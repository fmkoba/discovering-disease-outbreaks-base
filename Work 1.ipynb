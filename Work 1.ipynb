{
 "cells": [
  {
   "cell_type": "code",
   "execution_count": 75,
   "metadata": {},
   "outputs": [],
   "source": [
    "import re\n",
    "import unidecode\n",
    "import geonamescache\n",
    "import pandas as pd"
   ]
  },
  {
   "cell_type": "code",
   "execution_count": 25,
   "metadata": {},
   "outputs": [],
   "source": [
    "gc = geonamescache.GeonamesCache()\n",
    "cities = gc.get_cities()\n",
    "countries = gc.get_countries()"
   ]
  },
  {
   "cell_type": "code",
   "execution_count": 64,
   "metadata": {},
   "outputs": [],
   "source": [
    "cityRegexString = r'(?P<city>\\b('\n",
    "first = True\n",
    "for city in cities.values():\n",
    "    if first:\n",
    "        cityRegexString += unidecode.unidecode(city['name'])\n",
    "        first = False\n",
    "    else:\n",
    "        cityRegexString += '|' + unidecode.unidecode(city['name']) \n",
    "\n",
    "cityRegexString += r')\\b)'\n",
    "\n",
    "countryRegexString = r'(?P<country>\\b('\n",
    "\n",
    "for country in countries.values():\n",
    "    countryRegexString += unidecode.unidecode(country['name']) + '|'\n",
    "\n",
    "countryRegexString += r')\\b)'\n",
    "\n",
    "cityRegexp = re.compile(cityRegexString) \n",
    "countryRegexp = re.compile(countryRegexString) "
   ]
  },
  {
   "cell_type": "code",
   "execution_count": 98,
   "metadata": {},
   "outputs": [
    {
     "name": "stdout",
     "output_type": "stream",
     "text": [
      "                                               Healine           City Country\n",
      "0                           Zika Outbreak Hits Miami\\n          Miami        \n",
      "1                    Could Zika Reach New York City?\\n  New York City        \n",
      "2                  First Case of Zika in Miami Beach\\n          Miami        \n",
      "3            Mystery Virus Spreads in Recife, Brazil\\n         Recife        \n",
      "4            Dallas man comes down with case of Zika\\n         Dallas        \n",
      "..                                                 ...            ...     ...\n",
      "645  Rumors about Rabies spreading in Jerusalem hav...      Jerusalem        \n",
      "646            More Zika patients reported in Indang\\n         Indang        \n",
      "647  Suva authorities confirmed the spread of Rotav...           Suva        \n",
      "648       More Zika patients reported in Bella Vista\\n    Bella Vista        \n",
      "649                   Zika Outbreak in Wichita Falls\\n        Wichita        \n",
      "\n",
      "[650 rows x 3 columns]\n"
     ]
    }
   ],
   "source": [
    "file = open(\"data/headlines.txt\", 'r')\n",
    "headlinesArr = []\n",
    "cityArr = []\n",
    "countryArr = []\n",
    "\n",
    "bigArr = []\n",
    "\n",
    "for line in file.readlines():\n",
    "    headlinesArr.append(line)\n",
    "    \n",
    "    wtf = [line]\n",
    "\n",
    "    cityResult = cityRegexp.search(line)\n",
    "    if cityResult:\n",
    "        wtf.append(line[cityResult.span()[0]:cityResult.span()[1]])\n",
    "    else:\n",
    "        wtf.append(None)\n",
    "\n",
    "    countryResult = countryRegexp.search(line)  \n",
    "    if countryResult:\n",
    "        wtf.append(line[countryResult.span()[0]:countryResult.span()[1]])\n",
    "    else: \n",
    "        wtf.append(None)\n",
    "        \n",
    "    bigArr.append(wtf)\n",
    "    \n",
    "df = pd.DataFrame(bigArr, columns=['Healine', 'City', 'Country'])\n",
    "print(df)"
   ]
  },
  {
   "cell_type": "code",
   "execution_count": 82,
   "metadata": {},
   "outputs": [
    {
     "data": {
      "text/html": [
       "<div>\n",
       "<style scoped>\n",
       "    .dataframe tbody tr th:only-of-type {\n",
       "        vertical-align: middle;\n",
       "    }\n",
       "\n",
       "    .dataframe tbody tr th {\n",
       "        vertical-align: top;\n",
       "    }\n",
       "\n",
       "    .dataframe thead th {\n",
       "        text-align: right;\n",
       "    }\n",
       "</style>\n",
       "<table border=\"1\" class=\"dataframe\">\n",
       "  <thead>\n",
       "    <tr style=\"text-align: right;\">\n",
       "      <th></th>\n",
       "      <th>Headline</th>\n",
       "      <th>City</th>\n",
       "      <th>Country</th>\n",
       "    </tr>\n",
       "  </thead>\n",
       "  <tbody>\n",
       "  </tbody>\n",
       "</table>\n",
       "</div>"
      ],
      "text/plain": [
       "Empty DataFrame\n",
       "Columns: [Headline, City, Country]\n",
       "Index: []"
      ]
     },
     "execution_count": 82,
     "metadata": {},
     "output_type": "execute_result"
    }
   ],
   "source": [
    "df.head()"
   ]
  },
  {
   "cell_type": "code",
   "execution_count": null,
   "metadata": {},
   "outputs": [],
   "source": []
  }
 ],
 "metadata": {
  "kernelspec": {
   "display_name": "Python 3",
   "language": "python",
   "name": "python3"
  },
  "language_info": {
   "codemirror_mode": {
    "name": "ipython",
    "version": 3
   },
   "file_extension": ".py",
   "mimetype": "text/x-python",
   "name": "python",
   "nbconvert_exporter": "python",
   "pygments_lexer": "ipython3",
   "version": "3.7.6"
  }
 },
 "nbformat": 4,
 "nbformat_minor": 4
}
